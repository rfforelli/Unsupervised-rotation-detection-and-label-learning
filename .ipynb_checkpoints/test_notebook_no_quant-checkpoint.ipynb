{
 "cells": [
  {
   "cell_type": "code",
   "execution_count": 4,
   "id": "e17c30b1",
   "metadata": {},
   "outputs": [
    {
     "ename": "SyntaxError",
     "evalue": "invalid syntax (distilled_model.py, line 208)",
     "output_type": "error",
     "traceback": [
      "Traceback \u001b[0;36m(most recent call last)\u001b[0m:\n",
      "  File \u001b[1;32m~/anaconda3/envs/4d_tem/lib/python3.8/site-packages/IPython/core/interactiveshell.py:3369\u001b[0m in \u001b[1;35mrun_code\u001b[0m\n    exec(code_obj, self.user_global_ns, self.user_ns)\n",
      "\u001b[0;36m  Input \u001b[0;32mIn [4]\u001b[0;36m in \u001b[0;35m<cell line: 10>\u001b[0;36m\u001b[0m\n\u001b[0;31m    from distilled_model import *\u001b[0m\n",
      "\u001b[0;36m  File \u001b[0;32m~/Desktop/Unsupervised-rotation-detection-and-label-learning/distilled_model.py:208\u001b[0;36m\u001b[0m\n\u001b[0;31m    kwargs = 'kernel_initializer': 'lecun_uniform'\u001b[0m\n\u001b[0m                                 ^\u001b[0m\n\u001b[0;31mSyntaxError\u001b[0m\u001b[0;31m:\u001b[0m invalid syntax\n"
     ]
    }
   ],
   "source": [
    "import numpy as np\n",
    "import h5py\n",
    "import os\n",
    "from random import shuffle\n",
    "import tensorflow as tf\n",
    "physical_devices = tf.config.list_physical_devices('GPU')\n",
    "tf.config.experimental.set_memory_growth(physical_devices[0], enable=True)\n",
    "import matplotlib.pyplot as plt\n",
    "import argparse\n",
    "from distilled_model import *\n",
    "#, create_quantized_distilled_model, create_extra_small_quantized_distilled_model\n",
    "from sklearn.model_selection import train_test_split\n",
    "from sklearn.preprocessing import StandardScaler\n",
    "from tensorflow.keras.callbacks import EarlyStopping, ReduceLROnPlateau\n",
    "import yaml\n",
    "import math\n",
    "import tqdm as notebook_tqdm\n",
    "import hls4ml"
   ]
  },
  {
   "cell_type": "code",
   "execution_count": 2,
   "id": "546605d7",
   "metadata": {},
   "outputs": [],
   "source": [
    "os.environ['CUDA_VISIBLE_DEVICES'] = '0'"
   ]
  },
  {
   "cell_type": "code",
   "execution_count": 3,
   "id": "82114a36",
   "metadata": {},
   "outputs": [],
   "source": [
    "img = np.load('/home/ferroelectric/Desktop/Unsupervised-rotation-detection-and-label-learning/02_scan_x256_y256_raw.npy')"
   ]
  },
  {
   "cell_type": "code",
   "execution_count": 4,
   "id": "ef8afbbe",
   "metadata": {},
   "outputs": [
    {
     "data": {
      "text/plain": [
       "(124, 124, 256, 256)"
      ]
     },
     "execution_count": 4,
     "metadata": {},
     "output_type": "execute_result"
    }
   ],
   "source": [
    "img.shape"
   ]
  },
  {
   "cell_type": "code",
   "execution_count": 5,
   "id": "e95ef02c",
   "metadata": {},
   "outputs": [],
   "source": [
    "img = np.transpose(img,(2,3,0,1)) \n",
    "data_r = np.copy(img)\n",
    "data_r[data_r>1e3]=1e3\n",
    "min_ = np.min(data_r) \n",
    "max_ = np.max(data_r) \n",
    "data_r = 1.0*(data_r-min_)/(max_-min_)\n",
    "data_r = data_r.reshape(-1,1,124,124)\n",
    "data_r_cut = data_r[:,:,2:122,2:122] \n",
    "data_r_cut = data_r_cut.reshape(256,256,120,120) \n",
    "data_r_cut = np.rot90(data_r_cut)  \n",
    "X = data_r_cut.reshape(-1, 120,120)"
   ]
  },
  {
   "cell_type": "code",
   "execution_count": 6,
   "id": "6b1aa26a",
   "metadata": {},
   "outputs": [
    {
     "data": {
      "text/plain": [
       "(65536, 120, 120)"
      ]
     },
     "execution_count": 6,
     "metadata": {},
     "output_type": "execute_result"
    }
   ],
   "source": [
    "X.shape"
   ]
  },
  {
   "cell_type": "code",
   "execution_count": 7,
   "id": "f9a234bd",
   "metadata": {},
   "outputs": [],
   "source": [
    "# generate outputs/targets\n",
    "dataset_h5 = h5py.File('/home/ferroelectric/Desktop/Unsupervised-rotation-detection-and-label-learning/unbinned_results.h5','r+')\n",
    "rots = np.array(dataset_h5['rotation'])\n",
    "scal = np.array(dataset_h5['scale'])\n",
    "y = np.concatenate((rots, scal), axis=1)"
   ]
  },
  {
   "cell_type": "code",
   "execution_count": 8,
   "id": "4db74e7c",
   "metadata": {},
   "outputs": [
    {
     "name": "stdout",
     "output_type": "stream",
     "text": [
      "[0.94005179 0.34103164 1.12650526 0.         0.         1.19970393]\n"
     ]
    }
   ],
   "source": [
    "y.shape\n",
    "print(y[0])"
   ]
  },
  {
   "cell_type": "code",
   "execution_count": 9,
   "id": "12effea9",
   "metadata": {},
   "outputs": [],
   "source": [
    "#y = np.load('unbinned_results.npy')\n",
    "sc = StandardScaler()\n",
    "y_scal = sc.fit_transform(y)"
   ]
  },
  {
   "cell_type": "code",
   "execution_count": 10,
   "id": "f2345fd3",
   "metadata": {},
   "outputs": [
    {
     "data": {
      "text/plain": [
       "(65536, 6)"
      ]
     },
     "execution_count": 10,
     "metadata": {},
     "output_type": "execute_result"
    }
   ],
   "source": [
    "y_scal.shape"
   ]
  },
  {
   "cell_type": "code",
   "execution_count": null,
   "id": "f9fddd10",
   "metadata": {},
   "outputs": [],
   "source": []
  },
  {
   "cell_type": "code",
   "execution_count": 11,
   "id": "01b0c647",
   "metadata": {},
   "outputs": [],
   "source": [
    "# X_train, X_test, y_train, y_test = train_test_split(X, y, test_size=0.1, random_state=1)\n",
    "# # np.save('x_test.npy',X_test)\n",
    "# # np.save('y_test.npy',y_test)"
   ]
  },
  {
   "cell_type": "code",
   "execution_count": 12,
   "id": "540e0f22",
   "metadata": {},
   "outputs": [
    {
     "name": "stderr",
     "output_type": "stream",
     "text": [
      "2022-06-10 17:33:20.204806: I tensorflow/core/platform/cpu_feature_guard.cc:151] This TensorFlow binary is optimized with oneAPI Deep Neural Network Library (oneDNN) to use the following CPU instructions in performance-critical operations:  AVX2 FMA\n",
      "To enable them in other operations, rebuild TensorFlow with the appropriate compiler flags.\n",
      "2022-06-10 17:33:20.206761: I tensorflow/stream_executor/cuda/cuda_gpu_executor.cc:936] successful NUMA node read from SysFS had negative value (-1), but there must be at least one NUMA node, so returning NUMA node zero\n",
      "2022-06-10 17:33:20.207500: I tensorflow/stream_executor/cuda/cuda_gpu_executor.cc:936] successful NUMA node read from SysFS had negative value (-1), but there must be at least one NUMA node, so returning NUMA node zero\n",
      "2022-06-10 17:33:20.208159: I tensorflow/stream_executor/cuda/cuda_gpu_executor.cc:936] successful NUMA node read from SysFS had negative value (-1), but there must be at least one NUMA node, so returning NUMA node zero\n",
      "2022-06-10 17:33:20.539065: I tensorflow/stream_executor/cuda/cuda_gpu_executor.cc:936] successful NUMA node read from SysFS had negative value (-1), but there must be at least one NUMA node, so returning NUMA node zero\n",
      "2022-06-10 17:33:20.539752: I tensorflow/stream_executor/cuda/cuda_gpu_executor.cc:936] successful NUMA node read from SysFS had negative value (-1), but there must be at least one NUMA node, so returning NUMA node zero\n",
      "2022-06-10 17:33:20.540392: I tensorflow/stream_executor/cuda/cuda_gpu_executor.cc:936] successful NUMA node read from SysFS had negative value (-1), but there must be at least one NUMA node, so returning NUMA node zero\n",
      "2022-06-10 17:33:20.541031: I tensorflow/core/common_runtime/gpu/gpu_device.cc:1525] Created device /job:localhost/replica:0/task:0/device:GPU:0 with 22011 MB memory:  -> device: 0, name: NVIDIA GeForce RTX 3090, pci bus id: 0000:01:00.0, compute capability: 8.6\n"
     ]
    }
   ],
   "source": [
    "precision = 12\n",
    "MODEL = create_mlp_avg_pool(precision)\n",
    "optimizer = 'adam'\n",
    "loss = 'mse'\n",
    "\n",
    "stopping = EarlyStopping(monitor='val_loss',\n",
    "                             patience = 10)\n",
    "reduce_lr = ReduceLROnPlateau(monitor='val_loss', factor=0.5, patience=10,\n",
    "                                  mode='min', verbose=1, min_delta=0.001,\n",
    "                                  cooldown=4, min_lr=1e-5)\n",
    "callbacks=[\n",
    "        stopping,\n",
    "        reduce_lr,\n",
    "    ]"
   ]
  },
  {
   "cell_type": "code",
   "execution_count": 13,
   "id": "594bc7cf",
   "metadata": {},
   "outputs": [],
   "source": [
    "MODEL.compile(optimizer=optimizer, loss=loss,)"
   ]
  },
  {
   "cell_type": "code",
   "execution_count": 14,
   "id": "816e6888",
   "metadata": {},
   "outputs": [
    {
     "name": "stdout",
     "output_type": "stream",
     "text": [
      "Model: \"model\"\n",
      "_________________________________________________________________\n",
      " Layer (type)                Output Shape              Param #   \n",
      "=================================================================\n",
      " input_1 (InputLayer)        [(None, 120, 120, 1)]     0         \n",
      "                                                                 \n",
      " average_pooling2d (AverageP  (None, 30, 30, 1)        0         \n",
      " ooling2D)                                                       \n",
      "                                                                 \n",
      " flatten (Flatten)           (None, 900)               0         \n",
      "                                                                 \n",
      " q_dense (QDense)            (None, 64)                57664     \n",
      "                                                                 \n",
      " batch_normalization (BatchN  (None, 64)               256       \n",
      " ormalization)                                                   \n",
      "                                                                 \n",
      " q_activation (QActivation)  (None, 64)                0         \n",
      "                                                                 \n",
      " q_dense_1 (QDense)          (None, 32)                2080      \n",
      "                                                                 \n",
      " batch_normalization_1 (Batc  (None, 32)               128       \n",
      " hNormalization)                                                 \n",
      "                                                                 \n",
      " q_activation_1 (QActivation  (None, 32)               0         \n",
      " )                                                               \n",
      "                                                                 \n",
      " q_dense_2 (QDense)          (None, 16)                528       \n",
      "                                                                 \n",
      " batch_normalization_2 (Batc  (None, 16)               64        \n",
      " hNormalization)                                                 \n",
      "                                                                 \n",
      " q_activation_2 (QActivation  (None, 16)               0         \n",
      " )                                                               \n",
      "                                                                 \n",
      " q_dense_3 (QDense)          (None, 6)                 102       \n",
      "                                                                 \n",
      "=================================================================\n",
      "Total params: 60,822\n",
      "Trainable params: 60,598\n",
      "Non-trainable params: 224\n",
      "_________________________________________________________________\n"
     ]
    }
   ],
   "source": [
    "MODEL.summary()"
   ]
  },
  {
   "cell_type": "code",
   "execution_count": 15,
   "id": "1010fbc7",
   "metadata": {},
   "outputs": [
    {
     "name": "stdout",
     "output_type": "stream",
     "text": [
      "Epoch 1/100\n"
     ]
    },
    {
     "name": "stderr",
     "output_type": "stream",
     "text": [
      "2022-06-10 17:33:25.258983: I tensorflow/stream_executor/cuda/cuda_dnn.cc:368] Loaded cuDNN version 8100\n"
     ]
    },
    {
     "name": "stdout",
     "output_type": "stream",
     "text": [
      "  42/1639 [..............................] - ETA: 6s - loss: 0.4798 "
     ]
    },
    {
     "name": "stderr",
     "output_type": "stream",
     "text": [
      "2022-06-10 17:33:25.615582: I tensorflow/stream_executor/cuda/cuda_blas.cc:1786] TensorFloat-32 will be used for the matrix multiplication. This will only be logged once.\n"
     ]
    },
    {
     "name": "stdout",
     "output_type": "stream",
     "text": [
      "1639/1639 [==============================] - 10s 5ms/step - loss: 0.0732 - val_loss: 0.2256 - lr: 0.0010\n",
      "Epoch 2/100\n",
      "1639/1639 [==============================] - 7s 4ms/step - loss: 0.0263 - val_loss: 0.6034 - lr: 0.0010\n",
      "Epoch 3/100\n",
      "1639/1639 [==============================] - 7s 4ms/step - loss: 0.0211 - val_loss: 0.5631 - lr: 0.0010\n",
      "Epoch 4/100\n",
      "1639/1639 [==============================] - 7s 4ms/step - loss: 0.0190 - val_loss: 0.5699 - lr: 0.0010\n",
      "Epoch 5/100\n",
      "1639/1639 [==============================] - 7s 4ms/step - loss: 0.0180 - val_loss: 0.2329 - lr: 0.0010\n",
      "Epoch 6/100\n",
      "1639/1639 [==============================] - 7s 4ms/step - loss: 0.0171 - val_loss: 0.0982 - lr: 0.0010\n",
      "Epoch 7/100\n",
      "1639/1639 [==============================] - 7s 4ms/step - loss: 0.0167 - val_loss: 1.3455 - lr: 0.0010\n",
      "Epoch 8/100\n",
      "1639/1639 [==============================] - 7s 4ms/step - loss: 0.0162 - val_loss: 0.5932 - lr: 0.0010\n",
      "Epoch 9/100\n",
      "1639/1639 [==============================] - 7s 4ms/step - loss: 0.0158 - val_loss: 0.0378 - lr: 0.0010\n",
      "Epoch 10/100\n",
      "1639/1639 [==============================] - 7s 4ms/step - loss: 0.0152 - val_loss: 0.0523 - lr: 0.0010\n",
      "Epoch 11/100\n",
      "1639/1639 [==============================] - 7s 4ms/step - loss: 0.0148 - val_loss: 0.0769 - lr: 0.0010\n",
      "Epoch 12/100\n",
      "1639/1639 [==============================] - 7s 4ms/step - loss: 0.0142 - val_loss: 0.0874 - lr: 0.0010\n",
      "Epoch 13/100\n",
      "1639/1639 [==============================] - 7s 4ms/step - loss: 0.0139 - val_loss: 0.0556 - lr: 0.0010\n",
      "Epoch 14/100\n",
      "1639/1639 [==============================] - 7s 4ms/step - loss: 0.0138 - val_loss: 0.0712 - lr: 0.0010\n",
      "Epoch 15/100\n",
      "1639/1639 [==============================] - 7s 4ms/step - loss: 0.0135 - val_loss: 0.0224 - lr: 0.0010\n",
      "Epoch 16/100\n",
      "1639/1639 [==============================] - 7s 4ms/step - loss: 0.0131 - val_loss: 0.0551 - lr: 0.0010\n",
      "Epoch 17/100\n",
      "1639/1639 [==============================] - 7s 4ms/step - loss: 0.0129 - val_loss: 0.2866 - lr: 0.0010\n",
      "Epoch 18/100\n",
      "1639/1639 [==============================] - 7s 4ms/step - loss: 0.0125 - val_loss: 0.0551 - lr: 0.0010\n",
      "Epoch 19/100\n",
      "1639/1639 [==============================] - 7s 4ms/step - loss: 0.0125 - val_loss: 0.0346 - lr: 0.0010\n",
      "Epoch 20/100\n",
      "1639/1639 [==============================] - 7s 4ms/step - loss: 0.0123 - val_loss: 0.0327 - lr: 0.0010\n",
      "Epoch 21/100\n",
      "1639/1639 [==============================] - 7s 4ms/step - loss: 0.0119 - val_loss: 0.0337 - lr: 0.0010\n",
      "Epoch 22/100\n",
      "1639/1639 [==============================] - 7s 4ms/step - loss: 0.0121 - val_loss: 0.0458 - lr: 0.0010\n",
      "Epoch 23/100\n",
      "1639/1639 [==============================] - 7s 4ms/step - loss: 0.0118 - val_loss: 0.0428 - lr: 0.0010\n",
      "Epoch 24/100\n",
      "1639/1639 [==============================] - 7s 4ms/step - loss: 0.0118 - val_loss: 0.0613 - lr: 0.0010\n",
      "Epoch 25/100\n",
      "1634/1639 [============================>.] - ETA: 0s - loss: 0.0115\n",
      "Epoch 25: ReduceLROnPlateau reducing learning rate to 0.0005000000237487257.\n",
      "1639/1639 [==============================] - 7s 4ms/step - loss: 0.0115 - val_loss: 0.2948 - lr: 0.0010\n"
     ]
    }
   ],
   "source": [
    "history = MODEL.fit(X,y_scal,\n",
    "                epochs=100,\n",
    "                batch_size = 32,\n",
    "                shuffle=True,\n",
    "                validation_split = 0.2,\n",
    "                callbacks=callbacks)"
   ]
  },
  {
   "cell_type": "code",
   "execution_count": 16,
   "id": "af7bf321",
   "metadata": {},
   "outputs": [],
   "source": [
    "# plot history\n",
    "plt.plot(history.history['loss'])\n",
    "plt.plot(history.history['val_loss'])\n",
    "plt.title('model accuracy')\n",
    "plt.ylabel('loss')\n",
    "plt.xlabel('epoch')\n",
    "plt.legend(['training_loss', 'validation_loss'], loc='upper left')\n",
    "plt.savefig('/home/ferroelectric/Desktop/Unsupervised-rotation-detection-and-label-learning/models/mlp_average_pool_12b/keras_model_results/model.png')"
   ]
  },
  {
   "cell_type": "markdown",
   "id": "750a1713",
   "metadata": {},
   "source": [
    "## Convert and post-processing"
   ]
  },
  {
   "cell_type": "code",
   "execution_count": 17,
   "id": "bfcc3bbc",
   "metadata": {},
   "outputs": [],
   "source": [
    "import os\n",
    "\n",
    "#os.environ['CUDA_VISIBLE_DEVICES'] = '0'\n",
    "\n",
    "from qkeras.utils import _add_supported_quantized_objects\n",
    "import argparse\n",
    "import yaml\n",
    "from post_process import post_process"
   ]
  },
  {
   "cell_type": "code",
   "execution_count": 18,
   "id": "db8e3da2",
   "metadata": {},
   "outputs": [],
   "source": [
    "#post_process"
   ]
  },
  {
   "cell_type": "code",
   "execution_count": 19,
   "id": "38836161",
   "metadata": {},
   "outputs": [],
   "source": [
    "#same as before\n",
    "img = np.load('/home/ferroelectric/Desktop/Unsupervised-rotation-detection-and-label-learning/02_scan_x256_y256_raw.npy')\n",
    "img = np.transpose(img,(2,3,0,1))\n",
    "data_r = np.copy(img)\n",
    "data_r[data_r>1e3]=1e3\n",
    "min_ = np.min(data_r)\n",
    "max_ = np.max(data_r)\n",
    "\n",
    "data_r = 1.0*(data_r-min_)/(max_-min_)\n",
    "\n",
    "data_r = data_r.reshape(-1,1,124,124)\n",
    "data_r_cut = data_r[:,:,2:122,2:122]\n",
    "data_r_cut = data_r_cut.reshape(256,256,120,120)\n",
    "X = data_r_cut.reshape(-1, 120,120)"
   ]
  },
  {
   "cell_type": "code",
   "execution_count": 20,
   "id": "66264dd4",
   "metadata": {},
   "outputs": [
    {
     "name": "stdout",
     "output_type": "stream",
     "text": [
      "(65536, 120, 120)\n"
     ]
    }
   ],
   "source": [
    "print(X.shape)"
   ]
  },
  {
   "cell_type": "code",
   "execution_count": 21,
   "id": "2a06cb30",
   "metadata": {},
   "outputs": [],
   "source": [
    "#Does something, tbd\n",
    "# generate outputs/targets\n",
    "dataset_h5 = h5py.File('/home/ferroelectric/Desktop/Unsupervised-rotation-detection-and-label-learning/unbinned_results.h5','r+')\n",
    "rots = np.array(dataset_h5['rotation'])\n",
    "scal = np.array(dataset_h5['scale'])\n",
    "y = np.concatenate((rots, scal), axis=1)\n",
    "sc = StandardScaler()\n",
    "_ = sc.fit(y)\n",
    "base_8 = np.load('/home/ferroelectric/Desktop/Unsupervised-rotation-detection-and-label-learning/base_8.npy', allow_pickle=1)"
   ]
  },
  {
   "cell_type": "code",
   "execution_count": 22,
   "id": "ede5f080",
   "metadata": {},
   "outputs": [],
   "source": [
    "predictions = MODEL.predict(np.ascontiguousarray(X))\n",
    "predictions = sc.inverse_transform(predictions)"
   ]
  },
  {
   "cell_type": "code",
   "execution_count": 23,
   "id": "b268d48d",
   "metadata": {},
   "outputs": [
    {
     "data": {
      "text/plain": [
       "(65536, 6)"
      ]
     },
     "execution_count": 23,
     "metadata": {},
     "output_type": "execute_result"
    }
   ],
   "source": [
    "predictions.shape"
   ]
  },
  {
   "cell_type": "code",
   "execution_count": 24,
   "id": "111a21f3",
   "metadata": {},
   "outputs": [
    {
     "name": "stdout",
     "output_type": "stream",
     "text": [
      "keras pred:  [0.81012464 0.50018483 1.1339972  0.         0.         1.1516299 ]\n",
      "actual:      [ 0.99885392 -0.04786232  1.18792486 -0.         -0.          1.14294565]\n"
     ]
    }
   ],
   "source": [
    "print('keras pred: ', predictions[1000])\n",
    "print('actual:     ', y[1000])"
   ]
  },
  {
   "cell_type": "code",
   "execution_count": 25,
   "id": "0c0f10c0",
   "metadata": {},
   "outputs": [
    {
     "name": "stdout",
     "output_type": "stream",
     "text": [
      "model MSE on full dataset:  0.014499168352925076\n",
      "0\n",
      "1\n",
      "total activated channels: 2\n"
     ]
    }
   ],
   "source": [
    "rotation_, scale_ = predictions[:, 0:2], predictions[:, 2:]\n",
    "\n",
    "mse = np.mean((y - predictions)**2)\n",
    "print('model MSE on full dataset: ', mse)\n",
    "\n",
    "#base=2,loss=0.024\n",
    "j=0\n",
    "list_new = []\n",
    "fig,ax = plt.subplots(1,3,figsize=(20,10))\n",
    "for i in range(2):\n",
    "    if np.sum(base_8[:,i]!=0):\n",
    "        j+=1\n",
    "        print(i)\n",
    "        list_new.append(i)\n",
    "        ax[i].title.set_text(str(i))\n",
    "        ax[i].imshow(base_8[:,i].reshape(256,256))\n",
    "print('total activated channels: '+str(j))\n",
    "ax[2].title.set_text('mean of the sample domain')\n",
    "ax[2].imshow(np.mean(data_r_cut.reshape(256,256,-1),axis=2))\n",
    "fig.savefig('/home/ferroelectric/Desktop/Unsupervised-rotation-detection-and-label-learning/models/mlp_average_pool_12b/keras_model_results/unknown.png')\n",
    "\n",
    "fig,ax = plt.subplots(2,2,figsize = (10,10))\n",
    "ax[0][0].imshow(rotation_[:,0].reshape(256,256))\n",
    "ax[0][1].imshow(rotation_[:,1].reshape(256,256))\n",
    "ax[1][0].hist(rotation_[:,0].reshape(-1),200)\n",
    "ax[1][1].hist(rotation_[:,1].reshape(-1),200)\n",
    "fig.savefig('/home/ferroelectric/Desktop/Unsupervised-rotation-detection-and-label-learning/models/mlp_average_pool_12b/keras_model_results/rotation.png')"
   ]
  },
  {
   "cell_type": "code",
   "execution_count": 26,
   "id": "08ebdb65",
   "metadata": {},
   "outputs": [],
   "source": [
    "sample_base = base_8[:,1].reshape(256,256)\n",
    "\n",
    "scale_0 = np.multiply(sample_base.reshape(256,256),scale_[:,0].reshape(256,256))\n",
    "scale_1 = np.multiply(sample_base.reshape(256,256),scale_[:,3].reshape(256,256))"
   ]
  },
  {
   "cell_type": "code",
   "execution_count": 27,
   "id": "0d6b9652",
   "metadata": {},
   "outputs": [],
   "source": [
    "fig,ax = plt.subplots(2,2,figsize = (10,10))\n",
    "clim0 = [1.14,1.19]\n",
    "clim1 = [1.1,1.17]\n",
    "ax[0][0].imshow(scale_0,clim=clim0)\n",
    "ax[0][1].imshow(scale_1,clim=clim1)\n",
    "ax[1][0].hist(scale_0.reshape(-1),200,range=clim0)\n",
    "ax[1][1].hist(scale_1.reshape(-1),200,range=clim1)\n",
    "fig.savefig('/home/ferroelectric/Desktop/Unsupervised-rotation-detection-and-label-learning/models/mlp_average_pool_12b/keras_model_results/scale.png')\n",
    "\n",
    "\n",
    "right_tri = np.sqrt(scale_0**2+scale_1**2).reshape(256,256)\n",
    "np.save('/home/ferroelectric/Desktop/Unsupervised-rotation-detection-and-label-learning/models/mlp_average_pool_12b/keras_model_results/right_triangle_mlp_average_pool_12b.npy', right_tri)\n",
    "fig,ax = plt.subplots(1,2,figsize=(20,10))\n",
    "clim=[1.59,1.65]\n",
    "ax[0].imshow(right_tri,clim=clim)\n",
    "ax[1].hist(right_tri.reshape(-1),200,range=clim)\n",
    "fig.savefig('/home/ferroelectric/Desktop/Unsupervised-rotation-detection-and-label-learning/models/mlp_average_pool_12b/keras_model_results/right_triangle.png')"
   ]
  },
  {
   "cell_type": "markdown",
   "id": "c532b218",
   "metadata": {},
   "source": [
    "## Now Test HLS Model"
   ]
  },
  {
   "cell_type": "code",
   "execution_count": 28,
   "id": "e1487b35",
   "metadata": {},
   "outputs": [],
   "source": [
    "def print_dict(d, indent=0):\n",
    "    align = 20\n",
    "    for key, value in d.items():\n",
    "        print('  ' * indent + str(key), end='')\n",
    "        if isinstance(value, dict):\n",
    "            print()\n",
    "            print_dict(value, indent+1)\n",
    "        else:\n",
    "            print(':' + ' ' * (20 - len(key) - 2 * indent) + str(value))"
   ]
  },
  {
   "cell_type": "code",
   "execution_count": 29,
   "id": "4d5472ac",
   "metadata": {
    "scrolled": true
   },
   "outputs": [
    {
     "name": "stdout",
     "output_type": "stream",
     "text": [
      "Interpreting Model\n",
      "Topology:\n",
      "Layer name: input_1, layer type: Input\n",
      "Layer name: average_pooling2d, layer type: AveragePooling2D\n",
      "Layer name: q_dense, layer type: QDense\n",
      "Layer name: batch_normalization, layer type: BatchNormalization\n",
      "Layer name: q_activation, layer type: QActivation\n",
      "Layer name: q_dense_1, layer type: QDense\n",
      "Layer name: batch_normalization_1, layer type: BatchNormalization\n",
      "Layer name: q_activation_1, layer type: QActivation\n",
      "Layer name: q_dense_2, layer type: QDense\n",
      "Layer name: batch_normalization_2, layer type: BatchNormalization\n",
      "Layer name: q_activation_2, layer type: QActivation\n",
      "Layer name: q_dense_3, layer type: QDense\n"
     ]
    }
   ],
   "source": [
    "config = hls4ml.utils.config_from_keras_model(MODEL, granularity='name')\n",
    "config['Model']['ReuseFactor'] = 16\n",
    "#config['SkipOptimizers'] = ['reshape_stream']\n",
    "#config['SkipOptimizers']= ['relu_merge']\n",
    "config['Model']['Strategy'] = 'Resource'\n",
    "#config['Model']['Compression'] = 'True'\n",
    "\n",
    "\n",
    "for layer in config['LayerName'].keys():\n",
    "    config['LayerName'][layer]['Trace'] = True\n",
    "    config['LayerName'][layer]['ReuseFactor'] = 16\n",
    "\n",
    "\n",
    "    \n",
    "# config['LayerName']['input_1']['Precision']['weight'] = 'ap_fixed<32,16>'\n",
    "# config['LayerName']['input_1']['Precision']['result'] = 'ap_fixed<32,16>'\n",
    "\n",
    "# config['LayerName']['q_dense']['Precision']['weight'] = 'ap_fixed<32,16>'\n",
    "# config['LayerName']['q_dense']['Precision']['bias'] = 'ap_fixed<32,16>'\n",
    "# config['LayerName']['q_dense_1']['Precision']['weight'] = 'ap_fixed<32,16>'\n",
    "# config['LayerName']['q_dense_1']['Precision']['bias'] = 'ap_fixed<32,16>'\n",
    "# config['LayerName']['q_dense_2']['Precision']['weight'] = 'ap_fixed<32,16>'\n",
    "# config['LayerName']['q_dense_2']['Precision']['bias'] = 'ap_fixed<32,16>'\n",
    "# config['LayerName']['q_dense_3']['Precision']['weight'] = 'ap_fixed<32,16>'\n",
    "# config['LayerName']['q_dense_3']['Precision']['bias'] = 'ap_fixed<32,16>'\n",
    "\n",
    "\n",
    "# config['LayerName']['q_activation']['Precision']['weight'] = 'ap_ufixed<32,16>'\n",
    "# config['LayerName']['q_activation']['Precision']['result'] = 'ap_ufixed<32,16>'\n",
    "# config['LayerName']['q_activation_1']['Precision']['weight'] = 'ap_ufixed<32,16>'\n",
    "# config['LayerName']['q_activation_1']['Precision']['result'] = 'ap_ufixed<32,16>'\n",
    "# config['LayerName']['q_activation_2']['Precision']['weight'] = 'ap_ufixed<32,16>'\n",
    "# config['LayerName']['q_activation_2']['Precision']['result'] = 'ap_ufixed<32,16>'\n",
    "\n",
    "# config['LayerName']['batch_normalization']['Precision']['weight'] = 'ap_fixed<32,16>'\n",
    "# config['LayerName']['batch_normalization']['Precision']['bias'] = 'ap_fixed<32,16>'\n",
    "# config['LayerName']['batch_normalization']['Precision']['scale'] = 'ap_fixed<32,16>'\n",
    "# config['LayerName']['batch_normalization_1']['Precision']['weight'] = 'ap_fixed<32,16>'\n",
    "# config['LayerName']['batch_normalization_1']['Precision']['bias'] = 'ap_fixed<32,16>'\n",
    "# config['LayerName']['batch_normalization_1']['Precision']['scale'] = 'ap_fixed<32,16>'\n",
    "# config['LayerName']['batch_normalization_2']['Precision']['weight'] = 'ap_fixed<32,16>'\n",
    "# config['LayerName']['batch_normalization_2']['Precision']['bias'] = 'ap_fixed<32,16>'\n",
    "# config['LayerName']['batch_normalization_2']['Precision']['scale'] = 'ap_fixed<32,16>'\n",
    "#config['LayerName']['average_pooling2d']['Precision']['weight'] = 'ap_fixed<32,9>'\n",
    "\n",
    "\n",
    "\n",
    "    \n",
    "# config['LayerName']['average_pooling2d']['ReuseFactor'] = 1\n",
    "# config['LayerName']['q_dense']['ReuseFactor'] = 60 #added\n",
    "# config['LayerName']['q_dense_1']['ReuseFactor'] = 64 #added\n",
    "# config['LayerName']['q_dense_2']['ReuseFactor'] = 64 #added\n",
    "# config['LayerName']['q_dense_3']['ReuseFactor'] = 64 #added"
   ]
  },
  {
   "cell_type": "code",
   "execution_count": 30,
   "id": "82411401",
   "metadata": {
    "scrolled": true
   },
   "outputs": [
    {
     "name": "stdout",
     "output_type": "stream",
     "text": [
      "Model\n",
      "  Precision:         ap_fixed<16,6>\n",
      "  ReuseFactor:       16\n",
      "  Strategy:          Resource\n",
      "LayerName\n",
      "  input_1\n",
      "    Precision\n",
      "      result:        ap_fixed<16,6>\n",
      "    Trace:           True\n",
      "    ReuseFactor:     16\n",
      "  average_pooling2d\n",
      "    Precision:       ap_fixed<16,6>\n",
      "    Trace:           True\n",
      "    ReuseFactor:     16\n",
      "  q_dense\n",
      "    Precision\n",
      "      weight:        ap_fixed<12,7>\n",
      "      bias:          ap_fixed<12,7>\n",
      "    ReuseFactor:     16\n",
      "    Trace:           True\n",
      "  batch_normalization\n",
      "    Precision\n",
      "      scale:         ap_fixed<16,6>\n",
      "      bias:          ap_fixed<16,6>\n",
      "    ReuseFactor:     16\n",
      "    Trace:           True\n",
      "  q_activation\n",
      "    Precision\n",
      "      result:        ap_ufixed<8,0>\n",
      "    ReuseFactor:     16\n",
      "    Trace:           True\n",
      "  q_dense_1\n",
      "    Precision\n",
      "      weight:        ap_fixed<12,7>\n",
      "      bias:          ap_fixed<12,7>\n",
      "    ReuseFactor:     16\n",
      "    Trace:           True\n",
      "  batch_normalization_1\n",
      "    Precision\n",
      "      scale:         ap_fixed<16,6>\n",
      "      bias:          ap_fixed<16,6>\n",
      "    ReuseFactor:     16\n",
      "    Trace:           True\n",
      "  q_activation_1\n",
      "    Precision\n",
      "      result:        ap_ufixed<8,0>\n",
      "    ReuseFactor:     16\n",
      "    Trace:           True\n",
      "  q_dense_2\n",
      "    Precision\n",
      "      weight:        ap_fixed<12,7>\n",
      "      bias:          ap_fixed<12,7>\n",
      "    ReuseFactor:     16\n",
      "    Trace:           True\n",
      "  batch_normalization_2\n",
      "    Precision\n",
      "      scale:         ap_fixed<16,6>\n",
      "      bias:          ap_fixed<16,6>\n",
      "    ReuseFactor:     16\n",
      "    Trace:           True\n",
      "  q_activation_2\n",
      "    Precision\n",
      "      result:        ap_ufixed<8,0>\n",
      "    ReuseFactor:     16\n",
      "    Trace:           True\n",
      "  q_dense_3\n",
      "    Precision\n",
      "      weight:        ap_fixed<12,7>\n",
      "      bias:          ap_fixed<12,7>\n",
      "    ReuseFactor:     16\n",
      "    Trace:           True\n",
      "Interpreting Model\n",
      "Topology:\n",
      "Layer name: input_1, layer type: InputLayer, input shapes: [[None, 120, 120, 1]], output shape: [None, 120, 120, 1]\n",
      "Layer name: average_pooling2d, layer type: AveragePooling2D, input shapes: [[None, 120, 120, 1]], output shape: [None, 30, 30, 1]\n",
      "Layer name: flatten, layer type: Reshape, input shapes: [[None, 30, 30, 1]], output shape: [None, 900]\n",
      "Layer name: q_dense, layer type: QDense, input shapes: [[None, 900]], output shape: [None, 64]\n",
      "Layer name: batch_normalization, layer type: BatchNormalization, input shapes: [[None, 64]], output shape: [None, 64]\n",
      "Layer name: q_activation, layer type: Activation, input shapes: [[None, 64]], output shape: [None, 64]\n",
      "Layer name: q_dense_1, layer type: QDense, input shapes: [[None, 64]], output shape: [None, 32]\n",
      "Layer name: batch_normalization_1, layer type: BatchNormalization, input shapes: [[None, 32]], output shape: [None, 32]\n",
      "Layer name: q_activation_1, layer type: Activation, input shapes: [[None, 32]], output shape: [None, 32]\n",
      "Layer name: q_dense_2, layer type: QDense, input shapes: [[None, 32]], output shape: [None, 16]\n",
      "Layer name: batch_normalization_2, layer type: BatchNormalization, input shapes: [[None, 16]], output shape: [None, 16]\n",
      "Layer name: q_activation_2, layer type: Activation, input shapes: [[None, 16]], output shape: [None, 16]\n",
      "Layer name: q_dense_3, layer type: QDense, input shapes: [[None, 16]], output shape: [None, 6]\n",
      "Creating HLS model\n",
      "WARNING: Invalid ReuseFactor=16 with \"Resource\" strategy in layer \"q_dense\". Using ReuseFactor=15 instead. Valid ReuseFactor(s): 2,3,4,5,6,9,10,12,15,18,20,25,30,36,45,50,60,75,90,100,150,180,225,300,450,900,1800,3600,7200,14400,28800,57600.\n",
      "Writing HLS project\n",
      "Done\n"
     ]
    }
   ],
   "source": [
    "print_dict(config)\n",
    "HLS_MODEL = hls4ml.converters.convert_from_keras_model(MODEL,\n",
    "                                                    hls_config=config,\n",
    "                                                    output_dir='/home/ferroelectric/Desktop/Unsupervised-rotation-detection-and-label-learning/models/mlp_average_pool_12b/my-hls-test',\n",
    "                                                    part='xcu200-fsgd2104-2-e',\n",
    "                                                    io_type='io_stream')\n",
    "HLS_MODEL.compile()"
   ]
  },
  {
   "cell_type": "code",
   "execution_count": 31,
   "id": "d7ff10ff",
   "metadata": {},
   "outputs": [
    {
     "name": "stdout",
     "output_type": "stream",
     "text": [
      "hls pred:  [0.93385824 0.34722653 1.14232484 0.         0.         1.19543361]\n",
      "actual:    [ 0.99885392 -0.04786232  1.18792486 -0.         -0.          1.14294565]\n",
      "hls model MSE on full dataset:  0.007932789597964578\n",
      "0\n",
      "1\n",
      "total activated channels: 2\n"
     ]
    }
   ],
   "source": [
    "#same as before\n",
    "img = np.load('/home/ferroelectric/Desktop/Unsupervised-rotation-detection-and-label-learning/02_scan_x256_y256_raw.npy')\n",
    "img = np.transpose(img,(2,3,0,1))\n",
    "data_r = np.copy(img)\n",
    "data_r[data_r>1e3]=1e3\n",
    "min_ = np.min(data_r)\n",
    "max_ = np.max(data_r)\n",
    "\n",
    "data_r = 1.0*(data_r-min_)/(max_-min_)\n",
    "\n",
    "data_r = data_r.reshape(-1,1,124,124)\n",
    "data_r_cut = data_r[:,:,2:122,2:122]\n",
    "data_r_cut = data_r_cut.reshape(256,256,120,120)\n",
    "X = data_r_cut.reshape(-1, 120,120)\n",
    "\n",
    "#Does something, tbd\n",
    "# generate outputs/targets\n",
    "dataset_h5 = h5py.File('/home/ferroelectric/Desktop/Unsupervised-rotation-detection-and-label-learning/unbinned_results.h5','r+')\n",
    "rots = np.array(dataset_h5['rotation'])\n",
    "scal = np.array(dataset_h5['scale'])\n",
    "y = np.concatenate((rots, scal), axis=1)\n",
    "sc = StandardScaler()\n",
    "_ = sc.fit(y)\n",
    "base_8 = np.load('/home/ferroelectric/Desktop/Unsupervised-rotation-detection-and-label-learning/base_8.npy', allow_pickle=1)\n",
    "\n",
    "predictions = HLS_MODEL.predict(np.ascontiguousarray(X))\n",
    "predictions = sc.inverse_transform(predictions)\n",
    "\n",
    "print('hls pred: ', predictions[1000])\n",
    "print('actual:   ', y[1000])\n",
    "\n",
    "rotation_, scale_ = predictions[:, 0:2], predictions[:, 2:]\n",
    "\n",
    "mse = np.mean((y - predictions)**2)\n",
    "print('hls model MSE on full dataset: ', mse)\n",
    "\n",
    "#base=2,loss=0.024\n",
    "j=0\n",
    "list_new = []\n",
    "fig,ax = plt.subplots(1,3,figsize=(20,10))\n",
    "for i in range(2):\n",
    "    if np.sum(base_8[:,i]!=0):\n",
    "        j+=1\n",
    "        print(i)\n",
    "        list_new.append(i)\n",
    "        ax[i].title.set_text(str(i))\n",
    "        ax[i].imshow(base_8[:,i].reshape(256,256))\n",
    "print('total activated channels: '+str(j))\n",
    "ax[2].title.set_text('mean of the sample domain')\n",
    "ax[2].imshow(np.mean(data_r_cut.reshape(256,256,-1),axis=2))\n",
    "fig.savefig('/home/ferroelectric/Desktop/Unsupervised-rotation-detection-and-label-learning/models/mlp_average_pool_12b/hls_model_results/unknown.png')\n",
    "\n",
    "fig,ax = plt.subplots(2,2,figsize = (10,10))\n",
    "ax[0][0].imshow(rotation_[:,0].reshape(256,256))\n",
    "ax[0][1].imshow(rotation_[:,1].reshape(256,256))\n",
    "ax[1][0].hist(rotation_[:,0].reshape(-1),200)\n",
    "ax[1][1].hist(rotation_[:,1].reshape(-1),200)\n",
    "fig.savefig('/home/ferroelectric/Desktop/Unsupervised-rotation-detection-and-label-learning/models/mlp_average_pool_12b/hls_model_results/rotation.png')\n",
    "\n",
    "sample_base = base_8[:,1].reshape(256,256)\n",
    "\n",
    "scale_0 = np.multiply(sample_base.reshape(256,256),scale_[:,0].reshape(256,256))\n",
    "scale_1 = np.multiply(sample_base.reshape(256,256),scale_[:,3].reshape(256,256))\n",
    "\n",
    "fig,ax = plt.subplots(2,2,figsize = (10,10))\n",
    "clim0 = [1.14,1.19]\n",
    "clim1 = [1.1,1.17]\n",
    "ax[0][0].imshow(scale_0,clim=clim0)\n",
    "ax[0][1].imshow(scale_1,clim=clim1)\n",
    "ax[1][0].hist(scale_0.reshape(-1),200,range=clim0)\n",
    "ax[1][1].hist(scale_1.reshape(-1),200,range=clim1)\n",
    "fig.savefig('/home/ferroelectric/Desktop/Unsupervised-rotation-detection-and-label-learning/models/mlp_average_pool_12b/hls_model_results/scale.png')\n",
    "\n",
    "\n",
    "right_tri = np.sqrt(scale_0**2+scale_1**2).reshape(256,256)\n",
    "np.save('/home/ferroelectric/Desktop/Unsupervised-rotation-detection-and-label-learning/models/mlp_average_pool_12b/hls_model_results/right_triangle_mlp_average_pool_12b.npy', right_tri)\n",
    "fig,ax = plt.subplots(1,2,figsize=(20,10))\n",
    "clim=[1.59,1.65]\n",
    "ax[0].imshow(right_tri,clim=clim)\n",
    "ax[1].hist(right_tri.reshape(-1),200,range=clim)\n",
    "fig.savefig('/home/ferroelectric/Desktop/Unsupervised-rotation-detection-and-label-learning/models/mlp_average_pool_12b/hls_model_results/right_triangle.png')"
   ]
  },
  {
   "cell_type": "markdown",
   "id": "8294aa7f",
   "metadata": {},
   "source": [
    "## Use Profiling to Compare Layer Outputs"
   ]
  },
  {
   "cell_type": "code",
   "execution_count": 32,
   "id": "12b3f4f9",
   "metadata": {},
   "outputs": [],
   "source": [
    "os.environ['CUDA_VISIBLE_DEVICES'] = '0'"
   ]
  },
  {
   "cell_type": "code",
   "execution_count": 33,
   "id": "698f180c",
   "metadata": {},
   "outputs": [],
   "source": [
    "from hls4ml.model.profiling import numerical\n",
    "from hls4ml.converters import keras_to_hls\n",
    "import matplotlib.pyplot as plt\n",
    "import yaml"
   ]
  },
  {
   "cell_type": "code",
   "execution_count": 34,
   "id": "621542dd",
   "metadata": {},
   "outputs": [],
   "source": [
    "# \"MODEL\" is keras MODEL\n",
    "# \"HLS_MODEL\" is compiled HLS_MODEL\n",
    "X_test = np.ascontiguousarray(X)"
   ]
  },
  {
   "cell_type": "code",
   "execution_count": 42,
   "id": "d7577970",
   "metadata": {
    "scrolled": false
   },
   "outputs": [
    {
     "name": "stdout",
     "output_type": "stream",
     "text": [
      "Interpreting Model\n",
      "Topology:\n",
      "Layer name: input_1, layer type: InputLayer, input shapes: [[None, 120, 120, 1]], output shape: [None, 120, 120, 1]\n",
      "Layer name: average_pooling2d, layer type: AveragePooling2D, input shapes: [[None, 120, 120, 1]], output shape: [None, 30, 30, 1]\n",
      "Layer name: flatten, layer type: Reshape, input shapes: [[None, 30, 30, 1]], output shape: [None, 900]\n",
      "Layer name: q_dense, layer type: QDense, input shapes: [[None, 900]], output shape: [None, 64]\n",
      "Layer name: batch_normalization, layer type: BatchNormalization, input shapes: [[None, 64]], output shape: [None, 64]\n",
      "Layer name: q_activation, layer type: Activation, input shapes: [[None, 64]], output shape: [None, 64]\n",
      "Layer name: q_dense_1, layer type: QDense, input shapes: [[None, 64]], output shape: [None, 32]\n",
      "Layer name: batch_normalization_1, layer type: BatchNormalization, input shapes: [[None, 32]], output shape: [None, 32]\n",
      "Layer name: q_activation_1, layer type: Activation, input shapes: [[None, 32]], output shape: [None, 32]\n",
      "Layer name: q_dense_2, layer type: QDense, input shapes: [[None, 32]], output shape: [None, 16]\n",
      "Layer name: batch_normalization_2, layer type: BatchNormalization, input shapes: [[None, 16]], output shape: [None, 16]\n",
      "Layer name: q_activation_2, layer type: Activation, input shapes: [[None, 16]], output shape: [None, 16]\n",
      "Layer name: q_dense_3, layer type: QDense, input shapes: [[None, 16]], output shape: [None, 6]\n",
      "Creating HLS model\n",
      "WARNING: Invalid ReuseFactor=16 with \"Resource\" strategy in layer \"q_dense\". Using ReuseFactor=15 instead. Valid ReuseFactor(s): 2,3,4,5,6,9,10,12,15,18,20,25,30,36,45,50,60,75,90,100,150,180,225,300,450,900,1800,3600,7200,14400,28800,57600.\n",
      "Profiling weights (before optimization)\n",
      "Weights for q_dense_1 are only zeros, ignoring.\n",
      "Weights for q_dense_2 are only zeros, ignoring.\n",
      "Profiling weights (final / after optimization)\n",
      "Weights for q_dense_1 are only zeros, ignoring.\n",
      "Weights for q_dense_2 are only zeros, ignoring.\n",
      "Profiling activations (before optimization)\n",
      "   input_1\n",
      "   average_pooling2d\n",
      "   flatten\n",
      "   q_dense\n",
      "   batch_normalization\n",
      "   q_activation\n",
      "   q_dense_1\n",
      "   batch_normalization_1\n",
      "   q_activation_1\n",
      "   q_dense_2\n",
      "   batch_normalization_2\n",
      "   q_activation_2\n",
      "   q_dense_3\n",
      "Profiling activations (final / after optimization)\n",
      "Recompiling myproject with tracing\n",
      "Writing HLS project\n",
      "Done\n",
      "   average_pooling2d\n",
      "   q_dense\n",
      "   batch_normalization\n",
      "   q_activation\n",
      "   q_dense_1\n",
      "   batch_normalization_1\n",
      "   q_activation_1\n",
      "   q_dense_2\n",
      "   batch_normalization_2\n",
      "   q_activation_2\n",
      "   q_dense_3\n"
     ]
    },
    {
     "data": {
      "text/plain": [
       "(<Figure size 432x288 with 1 Axes>,\n",
       " <Figure size 432x288 with 1 Axes>,\n",
       " <Figure size 432x288 with 1 Axes>,\n",
       " <Figure size 432x288 with 1 Axes>)"
      ]
     },
     "execution_count": 42,
     "metadata": {},
     "output_type": "execute_result"
    },
    {
     "data": {
      "image/png": "[encoded data removed]",
      "text/plain": [
       "<Figure size 432x288 with 1 Axes>"
      ]
     },
     "metadata": {
      "needs_background": "light"
     },
     "output_type": "display_data"
    },
    {
     "data": {
      "image/png": "[encoded data removed]",
      "text/plain": [
       "<Figure size 432x288 with 1 Axes>"
      ]
     },
     "metadata": {
      "needs_background": "light"
     },
     "output_type": "display_data"
    },
    {
     "data": {
      "image/png": "[encoded data removed]",
      "text/plain": [
       "<Figure size 432x288 with 1 Axes>"
      ]
     },
     "metadata": {
      "needs_background": "light"
     },
     "output_type": "display_data"
    },
    {
     "data": {
      "image/png": "[encoded data removed]",
      "text/plain": [
       "<Figure size 432x288 with 1 Axes>"
      ]
     },
     "metadata": {
      "needs_background": "light"
     },
     "output_type": "display_data"
    }
   ],
   "source": [
    "# produce an activation profile (ap)\n",
    "# and weights profile (wp)\n",
    "#ap, wp = numerical(model = model, HLS_MODEL, X[0:100])\n",
    "%matplotlib inline\n",
    "hls4ml.model.profiling.numerical(model=MODEL, hls_model = HLS_MODEL, X=X_test[0:100])\n"
   ]
  },
  {
   "cell_type": "code",
   "execution_count": 49,
   "id": "6252ef0a",
   "metadata": {},
   "outputs": [
    {
     "name": "stdout",
     "output_type": "stream",
     "text": [
      "Recompiling myproject with tracing\n",
      "Writing HLS project\n",
      "Done\n",
      "Processing input_1 in Keras model...\n",
      "Processing average_pooling2d in Keras model...\n",
      "WARNING:tensorflow:Model was constructed with shape (None, 120, 120, 1) for input KerasTensor(type_spec=TensorSpec(shape=(None, 120, 120, 1), dtype=tf.float32, name='input_1'), name='input_1', description=\"created by layer 'input_1'\"), but it was called on an input with incompatible shape (None,).\n"
     ]
    },
    {
     "ename": "ValueError",
     "evalue": "in user code:\n\n    File \"/home/ferroelectric/anaconda3/envs/4d_tem/lib/python3.8/site-packages/keras/engine/training.py\", line 1801, in predict_function  *\n        return step_function(self, iterator)\n    File \"/home/ferroelectric/anaconda3/envs/4d_tem/lib/python3.8/site-packages/keras/engine/training.py\", line 1790, in step_function  **\n        outputs = model.distribute_strategy.run(run_step, args=(data,))\n    File \"/home/ferroelectric/anaconda3/envs/4d_tem/lib/python3.8/site-packages/keras/engine/training.py\", line 1783, in run_step  **\n        outputs = model.predict_step(data)\n    File \"/home/ferroelectric/anaconda3/envs/4d_tem/lib/python3.8/site-packages/keras/engine/training.py\", line 1751, in predict_step\n        return self(x, training=False)\n    File \"/home/ferroelectric/anaconda3/envs/4d_tem/lib/python3.8/site-packages/keras/utils/traceback_utils.py\", line 67, in error_handler\n        raise e.with_traceback(filtered_tb) from None\n    File \"/home/ferroelectric/anaconda3/envs/4d_tem/lib/python3.8/site-packages/keras/engine/input_spec.py\", line 214, in assert_input_compatibility\n        raise ValueError(f'Input {input_index} of layer \"{layer_name}\" '\n\n    ValueError: Exception encountered when calling layer \"model_85\" (type Functional).\n    \n    Input 0 of layer \"average_pooling2d\" is incompatible with the layer: expected ndim=4, found ndim=1. Full shape received: (None,)\n    \n    Call arguments received:\n      • inputs=tf.Tensor(shape=(None,), dtype=float32)\n      • training=False\n      • mask=None\n",
     "output_type": "error",
     "traceback": [
      "\u001b[0;31m---------------------------------------------------------------------------\u001b[0m",
      "\u001b[0;31mValueError\u001b[0m                                Traceback (most recent call last)",
      "Input \u001b[0;32mIn [49]\u001b[0m, in \u001b[0;36m<cell line: 5>\u001b[0;34m()\u001b[0m\n\u001b[1;32m      2\u001b[0m hls4ml_pred, hls4ml_trace \u001b[38;5;241m=\u001b[39m HLS_MODEL\u001b[38;5;241m.\u001b[39mtrace(np\u001b[38;5;241m.\u001b[39mascontiguousarray(X[\u001b[38;5;241m0\u001b[39m]))\n\u001b[1;32m      4\u001b[0m \u001b[38;5;66;03m# Run tracing on a portion of the test set for the Keras model (floating-point precision)\u001b[39;00m\n\u001b[0;32m----> 5\u001b[0m keras_trace \u001b[38;5;241m=\u001b[39m \u001b[43mhls4ml\u001b[49m\u001b[38;5;241;43m.\u001b[39;49m\u001b[43mmodel\u001b[49m\u001b[38;5;241;43m.\u001b[39;49m\u001b[43mprofiling\u001b[49m\u001b[38;5;241;43m.\u001b[39;49m\u001b[43mget_ymodel_keras\u001b[49m\u001b[43m(\u001b[49m\u001b[43mMODEL\u001b[49m\u001b[43m,\u001b[49m\u001b[43m \u001b[49m\u001b[43mX\u001b[49m\u001b[43m[\u001b[49m\u001b[38;5;241;43m0\u001b[39;49m\u001b[43m]\u001b[49m\u001b[43m[\u001b[49m\u001b[38;5;241;43m0\u001b[39;49m\u001b[43m]\u001b[49m\u001b[43m)\u001b[49m\n",
      "File \u001b[0;32m~/anaconda3/envs/4d_tem/lib/python3.8/site-packages/hls4ml/model/profiling.py:594\u001b[0m, in \u001b[0;36mget_ymodel_keras\u001b[0;34m(keras_model, X)\u001b[0m\n\u001b[1;32m    592\u001b[0m                 ymodel[layer\u001b[38;5;241m.\u001b[39mname] \u001b[38;5;241m=\u001b[39m _get_output(layer, X, keras_model\u001b[38;5;241m.\u001b[39minput)\n\u001b[1;32m    593\u001b[0m         \u001b[38;5;28;01melse\u001b[39;00m:    \n\u001b[0;32m--> 594\u001b[0m             ymodel[layer\u001b[38;5;241m.\u001b[39mname] \u001b[38;5;241m=\u001b[39m \u001b[43m_get_output\u001b[49m\u001b[43m(\u001b[49m\u001b[43mlayer\u001b[49m\u001b[43m,\u001b[49m\u001b[43m \u001b[49m\u001b[43mX\u001b[49m\u001b[43m,\u001b[49m\u001b[43m \u001b[49m\u001b[43mkeras_model\u001b[49m\u001b[38;5;241;43m.\u001b[39;49m\u001b[43minput\u001b[49m\u001b[43m)\u001b[49m\n\u001b[1;32m    595\u001b[0m \u001b[38;5;28mprint\u001b[39m(\u001b[38;5;124m\"\u001b[39m\u001b[38;5;124mDone taking outputs for Keras model.\u001b[39m\u001b[38;5;124m\"\u001b[39m)\n\u001b[1;32m    596\u001b[0m \u001b[38;5;28;01mreturn\u001b[39;00m ymodel\n",
      "File \u001b[0;32m~/anaconda3/envs/4d_tem/lib/python3.8/site-packages/hls4ml/model/profiling.py:547\u001b[0m, in \u001b[0;36m_get_output\u001b[0;34m(layer, X, model_input)\u001b[0m\n\u001b[1;32m    544\u001b[0m \u001b[38;5;124;03m\"\"\"Get output of partial model\"\"\"\u001b[39;00m\n\u001b[1;32m    545\u001b[0m partial_model \u001b[38;5;241m=\u001b[39m keras\u001b[38;5;241m.\u001b[39mmodels\u001b[38;5;241m.\u001b[39mModel(inputs\u001b[38;5;241m=\u001b[39mmodel_input,\n\u001b[1;32m    546\u001b[0m                                    outputs\u001b[38;5;241m=\u001b[39mlayer\u001b[38;5;241m.\u001b[39moutput)\n\u001b[0;32m--> 547\u001b[0m y \u001b[38;5;241m=\u001b[39m \u001b[43mpartial_model\u001b[49m\u001b[38;5;241;43m.\u001b[39;49m\u001b[43mpredict\u001b[49m\u001b[43m(\u001b[49m\u001b[43mX\u001b[49m\u001b[43m)\u001b[49m\n\u001b[1;32m    548\u001b[0m \u001b[38;5;28;01mreturn\u001b[39;00m y\n",
      "File \u001b[0;32m~/anaconda3/envs/4d_tem/lib/python3.8/site-packages/keras/utils/traceback_utils.py:67\u001b[0m, in \u001b[0;36mfilter_traceback.<locals>.error_handler\u001b[0;34m(*args, **kwargs)\u001b[0m\n\u001b[1;32m     65\u001b[0m \u001b[38;5;28;01mexcept\u001b[39;00m \u001b[38;5;167;01mException\u001b[39;00m \u001b[38;5;28;01mas\u001b[39;00m e:  \u001b[38;5;66;03m# pylint: disable=broad-except\u001b[39;00m\n\u001b[1;32m     66\u001b[0m   filtered_tb \u001b[38;5;241m=\u001b[39m _process_traceback_frames(e\u001b[38;5;241m.\u001b[39m__traceback__)\n\u001b[0;32m---> 67\u001b[0m   \u001b[38;5;28;01mraise\u001b[39;00m e\u001b[38;5;241m.\u001b[39mwith_traceback(filtered_tb) \u001b[38;5;28;01mfrom\u001b[39;00m \u001b[38;5;28mNone\u001b[39m\n\u001b[1;32m     68\u001b[0m \u001b[38;5;28;01mfinally\u001b[39;00m:\n\u001b[1;32m     69\u001b[0m   \u001b[38;5;28;01mdel\u001b[39;00m filtered_tb\n",
      "File \u001b[0;32m~/anaconda3/envs/4d_tem/lib/python3.8/site-packages/tensorflow/python/framework/func_graph.py:1147\u001b[0m, in \u001b[0;36mfunc_graph_from_py_func.<locals>.autograph_handler\u001b[0;34m(*args, **kwargs)\u001b[0m\n\u001b[1;32m   1145\u001b[0m \u001b[38;5;28;01mexcept\u001b[39;00m \u001b[38;5;167;01mException\u001b[39;00m \u001b[38;5;28;01mas\u001b[39;00m e:  \u001b[38;5;66;03m# pylint:disable=broad-except\u001b[39;00m\n\u001b[1;32m   1146\u001b[0m   \u001b[38;5;28;01mif\u001b[39;00m \u001b[38;5;28mhasattr\u001b[39m(e, \u001b[38;5;124m\"\u001b[39m\u001b[38;5;124mag_error_metadata\u001b[39m\u001b[38;5;124m\"\u001b[39m):\n\u001b[0;32m-> 1147\u001b[0m     \u001b[38;5;28;01mraise\u001b[39;00m e\u001b[38;5;241m.\u001b[39mag_error_metadata\u001b[38;5;241m.\u001b[39mto_exception(e)\n\u001b[1;32m   1148\u001b[0m   \u001b[38;5;28;01melse\u001b[39;00m:\n\u001b[1;32m   1149\u001b[0m     \u001b[38;5;28;01mraise\u001b[39;00m\n",
      "\u001b[0;31mValueError\u001b[0m: in user code:\n\n    File \"/home/ferroelectric/anaconda3/envs/4d_tem/lib/python3.8/site-packages/keras/engine/training.py\", line 1801, in predict_function  *\n        return step_function(self, iterator)\n    File \"/home/ferroelectric/anaconda3/envs/4d_tem/lib/python3.8/site-packages/keras/engine/training.py\", line 1790, in step_function  **\n        outputs = model.distribute_strategy.run(run_step, args=(data,))\n    File \"/home/ferroelectric/anaconda3/envs/4d_tem/lib/python3.8/site-packages/keras/engine/training.py\", line 1783, in run_step  **\n        outputs = model.predict_step(data)\n    File \"/home/ferroelectric/anaconda3/envs/4d_tem/lib/python3.8/site-packages/keras/engine/training.py\", line 1751, in predict_step\n        return self(x, training=False)\n    File \"/home/ferroelectric/anaconda3/envs/4d_tem/lib/python3.8/site-packages/keras/utils/traceback_utils.py\", line 67, in error_handler\n        raise e.with_traceback(filtered_tb) from None\n    File \"/home/ferroelectric/anaconda3/envs/4d_tem/lib/python3.8/site-packages/keras/engine/input_spec.py\", line 214, in assert_input_compatibility\n        raise ValueError(f'Input {input_index} of layer \"{layer_name}\" '\n\n    ValueError: Exception encountered when calling layer \"model_85\" (type Functional).\n    \n    Input 0 of layer \"average_pooling2d\" is incompatible with the layer: expected ndim=4, found ndim=1. Full shape received: (None,)\n    \n    Call arguments received:\n      • inputs=tf.Tensor(shape=(None,), dtype=float32)\n      • training=False\n      • mask=None\n"
     ]
    }
   ],
   "source": [
    "# Run tracing on a portion of the test set for the hls model (fixed-point precision) \n",
    "hls4ml_pred, hls4ml_trace = HLS_MODEL.trace(np.ascontiguousarray(X[0]))\n",
    "\n",
    "# Run tracing on a portion of the test set for the Keras model (floating-point precision)\n",
    "keras_trace = hls4ml.model.profiling.get_ymodel_keras(MODEL, X[0][0])"
   ]
  },
  {
   "cell_type": "code",
   "execution_count": null,
   "id": "217ef478",
   "metadata": {},
   "outputs": [],
   "source": [
    "%matplotlib inline\n",
    "for key in hls4ml_trace:\n",
    "    plt.figure()\n",
    "    plt.scatter(keras_trace[key][0], hls4ml_trace[key][0], color='black')\n",
    "    plt.plot(np.linspace(np.min(keras_trace[key][0]),np.max(keras_trace[key][0]), 10), \n",
    "             np.linspace(np.min(keras_trace[key][0]),np.max(keras_trace[key][0]), 10), label='keras_range')\n",
    "    plt.plot(np.linspace(np.min(hls4ml_trace[key][0]),np.max(hls4ml_trace[key][0]), 10), \n",
    "             np.linspace(np.min(hls4ml_trace[key][0]),np.max(hls4ml_trace[key][0]), 10), label='hls4ml_range')\n",
    "    plt.title(key)\n",
    "    plt.xlabel('keras output')\n",
    "    plt.ylabel('hls4ml output')\n",
    "    plt.legend()\n",
    "    plt.show()"
   ]
  },
  {
   "cell_type": "code",
   "execution_count": null,
   "id": "6cf66218",
   "metadata": {},
   "outputs": [],
   "source": []
  }
 ],
 "metadata": {
  "kernelspec": {
   "display_name": "4d_tem",
   "language": "python",
   "name": "4d_tem"
  },
  "language_info": {
   "codemirror_mode": {
    "name": "ipython",
    "version": 3
   },
   "file_extension": ".py",
   "mimetype": "text/x-python",
   "name": "python",
   "nbconvert_exporter": "python",
   "pygments_lexer": "ipython3",
   "version": "3.8.13"
  }
 },
 "nbformat": 4,
 "nbformat_minor": 5
}
